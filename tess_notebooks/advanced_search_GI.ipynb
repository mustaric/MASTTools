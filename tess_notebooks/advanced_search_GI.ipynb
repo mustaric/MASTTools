{
 "cells": [
  {
   "cell_type": "markdown",
   "metadata": {},
   "source": [
    "<a id=\"intro_ID\"></a>\n",
    "# Intermediate: Portal Advanced Search for GI Program Light Curves\n",
    "\n",
    "## Introduction\n",
    "This notebook uses the MAST Portal's advanced search options to retrieve the light curves for a single guest investigator program.  The notbook will show how to do an advanced query on the MAST's database of holdings, determine which data files are associated with those observations and then download the files of interest.  \n",
    "\n",
    "For more information about the TESS mission and collected data, visit the [MAST's TESS homepage](http://archive.stsci.edu/tess/). To read more details about TESS Data Products, look in the [TESS Science Product Description Document](https://archive.stsci.edu/missions/tess/doc/EXP-TESS-ARC-ICD-TM-0014.pdf). A list of Guest Investigator programs can be found at the [TESS GI List of Approved Programs](https://heasarc.gsfc.nasa.gov/docs/tess/approved-programs.html)."
   ]
  },
  {
   "cell_type": "markdown",
   "metadata": {},
   "source": [
    "<a id=\"imports_ID\"></a>\n",
    "## Imports\n",
    "Only the astroquery.mast Observations module is needed for this notebook.\n",
    "For information on how to install astroquery see their [instructions](https://astroquery.readthedocs.io/en/latest/index.html). At the time of writing this requires the latest version on pip."
   ]
  },
  {
   "cell_type": "code",
   "execution_count": 1,
   "metadata": {},
   "outputs": [],
   "source": [
    "from astroquery.mast import Observations"
   ]
  },
  {
   "cell_type": "markdown",
   "metadata": {},
   "source": [
    "We will use an advanced search to retrieve TESS timeseries data (lightcurve and target pixel files) for the Guest Investigator program G011183 from Sector 1 (PI: Stephen Kane). We will do this by first counting the number of observations returned and then requesting a table of those observations.\n",
    "\n",
    "All the filter names are listed on the [MAST CAOM Field Description Page.](https://mast.stsci.edu/api/v0/_c_a_o_mfields.html). Or, can be found by hovering over the column names after doing a search in the MAST portal. \n",
    "\n",
    "The filters we will need to use are, **obs_collection** to specify that we want TESS data, **dataproduct_type** to specify that we want timeseries data, **sequence_number** to specify that we want sector 1 and **proopsal_id** to specify the GI program number.  Remember that more than one GI can propose for the same target so we need wild cards around the name of the program in our query."
   ]
  },
  {
   "cell_type": "code",
   "execution_count": 15,
   "metadata": {},
   "outputs": [
    {
     "name": "stdout",
     "output_type": "stream",
     "text": [
      "Number of Observations: 42\n"
     ]
    }
   ],
   "source": [
    "obsCount = Observations.query_criteria_count(obs_collection=\"TESS\",\\\n",
    "                                       dataproduct_type=[\"timeseries\"],\\\n",
    "                                           sequence_number=1,\\\n",
    "                                          proposal_id=\"*G011183*\")\n",
    "print(\"Number of Observations: %i\" % obsTable)"
   ]
  },
  {
   "cell_type": "code",
   "execution_count": 39,
   "metadata": {},
   "outputs": [
    {
     "data": {
      "text/html": [
       "<i>Table masked=True length=5</i>\n",
       "<table id=\"table4757727384\" class=\"table-striped table-bordered table-condensed\">\n",
       "<thead><tr><th>obsid</th><th>proposal_id</th><th>obs_id</th></tr></thead>\n",
       "<thead><tr><th>str11</th><th>str31</th><th>str47</th></tr></thead>\n",
       "<tr><td>17000000913</td><td>G011112_G011183</td><td>tess2018206045859-s0001-0000000025155310-0120-s</td></tr>\n",
       "<tr><td>17000011816</td><td>G011112_G011183</td><td>tess2018206045859-s0001-0000000231670397-0120-s</td></tr>\n",
       "<tr><td>17000009457</td><td>G011112_G011183_G011132</td><td>tess2018206045859-s0001-0000000038846515-0120-s</td></tr>\n",
       "<tr><td>17000011364</td><td>G011112_G011183_G011132</td><td>tess2018206045859-s0001-0000000149603524-0120-s</td></tr>\n",
       "<tr><td>17000004054</td><td>G011112_G011183_G011132</td><td>tess2018206045859-s0001-0000000355703913-0120-s</td></tr>\n",
       "</table>"
      ],
      "text/plain": [
       "<Table masked=True length=5>\n",
       "   obsid    ...                      obs_id                    \n",
       "   str11    ...                      str47                     \n",
       "----------- ... -----------------------------------------------\n",
       "17000000913 ... tess2018206045859-s0001-0000000025155310-0120-s\n",
       "17000011816 ... tess2018206045859-s0001-0000000231670397-0120-s\n",
       "17000009457 ... tess2018206045859-s0001-0000000038846515-0120-s\n",
       "17000011364 ... tess2018206045859-s0001-0000000149603524-0120-s\n",
       "17000004054 ... tess2018206045859-s0001-0000000355703913-0120-s"
      ]
     },
     "execution_count": 39,
     "metadata": {},
     "output_type": "execute_result"
    }
   ],
   "source": [
    "obsTable = Observations.query_criteria(obs_collection=\"TESS\",\\\n",
    "                                       dataproduct_type=[\"timeseries\"],\\\n",
    "                                           sequence_number=1,\\\n",
    "                                          proposal_id=\"*G011183*\")\n",
    "obsTable[0:5]['obsid','proposal_id','obs_id']\n"
   ]
  },
  {
   "cell_type": "markdown",
   "metadata": {},
   "source": [
    "### Retrieve the obserations\n",
    "Next we use astroquery to retrieve the observations. More than one data file can be assocciated with a particular observation. So we will need to next ask for a list of products associated with the observations listed above.\n",
    "\n",
    "We will only ask for the first two, but this could be run for all of the observations in the list.  We really just want to download the lightcurve files, so we will show how to do that. "
   ]
  },
  {
   "cell_type": "code",
   "execution_count": 29,
   "metadata": {},
   "outputs": [
    {
     "data": {
      "text/plain": [
       "<TableColumns names=('obsID','obs_collection','dataproduct_type','obs_id','description','type','dataURI','productType','productGroupDescription','productSubGroupDescription','productDocumentationURL','project','prvversion','proposal_id','productFilename','size','parent_obsid')>"
      ]
     },
     "execution_count": 29,
     "metadata": {},
     "output_type": "execute_result"
    }
   ],
   "source": [
    "dataProducts = Observations.get_product_list(obsTable[0:2])\n",
    "dataProducts.columns"
   ]
  },
  {
   "cell_type": "code",
   "execution_count": 38,
   "metadata": {},
   "outputs": [
    {
     "data": {
      "text/html": [
       "<i>Table masked=True length=10</i>\n",
       "<table id=\"table4775514184\" class=\"table-striped table-bordered table-condensed\">\n",
       "<thead><tr><th>obsID</th><th>productFilename</th><th>description</th></tr></thead>\n",
       "<thead><tr><th>str11</th><th>str63</th><th>str27</th></tr></thead>\n",
       "<tr><td>17000000913</td><td>tess2018206190142-s0001-s0001-0000000025155310-00106_dvr.pdf</td><td>full data validation report</td></tr>\n",
       "<tr><td>17000000913</td><td>tess2018206190142-s0001-s0001-0000000025155310-00106_dvr.xml</td><td>full data validation report</td></tr>\n",
       "<tr><td>17000000913</td><td>tess2018206190142-s0001-s0001-0000000025155310-01-00106_dvs.pdf</td><td>TCE summary report</td></tr>\n",
       "<tr><td>17000000913</td><td>tess2018206045859-s0001-0000000025155310-0120-s_lc.fits</td><td>Light curves</td></tr>\n",
       "<tr><td>17000000913</td><td>tess2018206045859-s0001-0000000025155310-0120-s_tp.fits</td><td>Target pixel files</td></tr>\n",
       "<tr><td>17000011816</td><td>tess2018206190142-s0001-s0001-0000000231670397-00106_dvr.pdf</td><td>full data validation report</td></tr>\n",
       "<tr><td>17000011816</td><td>tess2018206190142-s0001-s0001-0000000231670397-00106_dvr.xml</td><td>full data validation report</td></tr>\n",
       "<tr><td>17000011816</td><td>tess2018206190142-s0001-s0001-0000000231670397-01-00106_dvs.pdf</td><td>TCE summary report</td></tr>\n",
       "<tr><td>17000011816</td><td>tess2018206045859-s0001-0000000231670397-0120-s_lc.fits</td><td>Light curves</td></tr>\n",
       "<tr><td>17000011816</td><td>tess2018206045859-s0001-0000000231670397-0120-s_tp.fits</td><td>Target pixel files</td></tr>\n",
       "</table>"
      ],
      "text/plain": [
       "<Table masked=True length=10>\n",
       "   obsID    ...         description        \n",
       "   str11    ...            str27           \n",
       "----------- ... ---------------------------\n",
       "17000000913 ... full data validation report\n",
       "17000000913 ... full data validation report\n",
       "17000000913 ...          TCE summary report\n",
       "17000000913 ...                Light curves\n",
       "17000000913 ...          Target pixel files\n",
       "17000011816 ... full data validation report\n",
       "17000011816 ... full data validation report\n",
       "17000011816 ...          TCE summary report\n",
       "17000011816 ...                Light curves\n",
       "17000011816 ...          Target pixel files"
      ]
     },
     "execution_count": 38,
     "metadata": {},
     "output_type": "execute_result"
    }
   ],
   "source": [
    "dataProducts['obsID','productFilename','description']"
   ]
  },
  {
   "cell_type": "code",
   "execution_count": 34,
   "metadata": {},
   "outputs": [
    {
     "name": "stdout",
     "output_type": "stream",
     "text": [
      "   obsID    obs_collection dataproduct_type ...   size  parent_obsid\n",
      "----------- -------------- ---------------- ... ------- ------------\n",
      "17000000913           TESS       timeseries ... 2039040  17000000913\n",
      "17000011816           TESS       timeseries ... 2039040  17000011816\n"
     ]
    }
   ],
   "source": [
    "want = dataProducts['description'] == \"Light curves\"\n",
    "print(dataProducts[want])\n",
    "manifest = Observations.download_products(dataProducts[want])"
   ]
  },
  {
   "cell_type": "code",
   "execution_count": 35,
   "metadata": {},
   "outputs": [
    {
     "name": "stdout",
     "output_type": "stream",
     "text": [
      "                                                         Local Path                                                         ...\n",
      "--------------------------------------------------------------------------------------------------------------------------- ...\n",
      "./mastDownload/TESS/tess2018206045859-s0001-0000000025155310-0120-s/tess2018206045859-s0001-0000000025155310-0120-s_lc.fits ...\n",
      "./mastDownload/TESS/tess2018206045859-s0001-0000000231670397-0120-s/tess2018206045859-s0001-0000000231670397-0120-s_lc.fits ...\n"
     ]
    }
   ],
   "source": [
    "print(manifest)"
   ]
  },
  {
   "cell_type": "markdown",
   "metadata": {},
   "source": [
    "## Summary\n",
    "Here is a summary of the code needed to do the problem described above, without all the outputs getting in the way and bringing some of the query information to the top where it can easily be changed. "
   ]
  },
  {
   "cell_type": "code",
   "execution_count": 40,
   "metadata": {},
   "outputs": [],
   "source": [
    "GI_program=\"*G011183\"\n",
    "file_type=\"Light curves\"\n",
    "sector=1\n",
    "\n",
    "obsTable = Observations.query_criteria(obs_collection=\"TESS\",\\\n",
    "                                       dataproduct_type=[\"timeseries\"],\\\n",
    "                                           sequence_number=sector,\\\n",
    "                                          proposal_id=GI_program)\n",
    "\n",
    "dataProducts = Observations.get_product_list(obsTable[0:2])\n",
    "want = dataProducts['description'] == file_type\n",
    "manifest = Observations.download_products(dataProducts[want])"
   ]
  },
  {
   "cell_type": "markdown",
   "metadata": {},
   "source": [
    "## Other Options\n",
    "Some prefer to rely on the regularity of our directory structure and the TESS file names to directly download a file using curl, python requests etc. You can investigate this "
   ]
  }
 ],
 "metadata": {
  "kernelspec": {
   "display_name": "Python 3",
   "language": "python",
   "name": "python3"
  },
  "language_info": {
   "codemirror_mode": {
    "name": "ipython",
    "version": 3
   },
   "file_extension": ".py",
   "mimetype": "text/x-python",
   "name": "python",
   "nbconvert_exporter": "python",
   "pygments_lexer": "ipython3",
   "version": "3.6.1"
  }
 },
 "nbformat": 4,
 "nbformat_minor": 2
}
