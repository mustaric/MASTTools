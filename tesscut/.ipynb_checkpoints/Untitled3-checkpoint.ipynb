{
 "cells": [
  {
   "cell_type": "code",
   "execution_count": 36,
   "metadata": {},
   "outputs": [],
   "source": [
    "import numpy as np\n",
    "from astroquery.mast import Catalogs\n",
    "from astroquery.mast import Tesscut\n",
    "from astropy.coordinates import SkyCoord\n",
    "from astropy.wcs import WCS\n",
    "from astropy.io import fits\n",
    "import matplotlib.pyplot as plt\n",
    "\n",
    "%matplotlib inline\n",
    "\n",
    "###CHANGE THE NEXT LINE in Pull Request ###\n",
    "#This is the url we are using.\n",
    "Tesscut._TESSCUT_URL = 'https://masttest.stsci.edu/tesscut/api/v0.1/'\n",
    "\n",
    "masttoken = %env MAST_TEST_TOKEN\n",
    "masttoken = \"2a1f8c7e0e924cbaaa256b296ed80ce0\"\n",
    "Tesscut._session.headers[\"Authorization\"] = \"token %s\" % masttoken"
   ]
  },
  {
   "cell_type": "code",
   "execution_count": 44,
   "metadata": {},
   "outputs": [],
   "source": [
    "\n",
    "def get_coutout(ticid):\n",
    "\n",
    "    starName = \"TIC \" + str(ticid)\n",
    "    rad_search = 1/60 #radius in degrees\n",
    "    catalogData = Catalogs.query_object(starName, radius = rad_search, catalog = \"TIC\")\n",
    "    Ra = catalogData[0]['ra']\n",
    "    Dec = catalogData[0]['dec']\n",
    "\n",
    "    coord = SkyCoord(Ra, Dec, unit = \"deg\")\n",
    "    print(coord)\n",
    "    sector_tab=Tesscut.get_sectors(coord)\n",
    "    print(sector_tab)\n",
    "    try:\n",
    "        hdulist = Tesscut.get_cutouts(coord, 15)\n",
    "        return hdulist\n",
    "    except:\n",
    "        print(\"Error. Could not use get_cutouts\")\n",
    "        return [0]"
   ]
  },
  {
   "cell_type": "code",
   "execution_count": 47,
   "metadata": {},
   "outputs": [
    {
     "name": "stdout",
     "output_type": "stream",
     "text": [
      "9011\n"
     ]
    }
   ],
   "source": [
    "ticlist = Catalogs.query_object(\"90.0042, -70.5647\", catalog=\"TIC\", radius = 0.5)\n",
    "ticlist[0:10]\n",
    "ticids=ticlist['ID']\n",
    "print(len(ticids))"
   ]
  },
  {
   "cell_type": "code",
   "execution_count": 54,
   "metadata": {},
   "outputs": [
    {
     "name": "stdout",
     "output_type": "stream",
     "text": [
      "<SkyCoord (ICRS): (ra, dec) in deg\n",
      "    (90.007688, -70.559439)>\n",
      "  sectorName   sector camera ccd\n",
      "-------------- ------ ------ ---\n",
      "tess-s0001-4-2      1      4   2\n",
      "tess-s0002-4-2      2      4   2\n",
      "Error. Could not use get_cutouts\n",
      "1\n",
      "<SkyCoord (ICRS): (ra, dec) in deg\n",
      "    (89.994721, -70.569442)>\n",
      "  sectorName   sector camera ccd\n",
      "-------------- ------ ------ ---\n",
      "tess-s0001-4-2      1      4   2\n",
      "tess-s0002-4-2      2      4   2\n",
      "Error. Could not use get_cutouts\n",
      "1\n",
      "<SkyCoord (ICRS): (ra, dec) in deg\n",
      "    (89.9925, -70.559334)>\n",
      "  sectorName   sector camera ccd\n",
      "-------------- ------ ------ ---\n",
      "tess-s0001-4-2      1      4   2\n",
      "tess-s0002-4-2      2      4   2\n",
      "Error. Could not use get_cutouts\n",
      "1\n"
     ]
    }
   ],
   "source": [
    "for tic in ticids[1:4]:\n",
    "    hdulist=get_coutout(tic)\n",
    "    print(len(hdulist))"
   ]
  },
  {
   "cell_type": "code",
   "execution_count": 60,
   "metadata": {},
   "outputs": [],
   "source": [
    "coord=SkyCoord(90.0042, -63.5647, unit=\"deg\")\n",
    "hdulist = Tesscut.get_cutouts(coord, 15)"
   ]
  },
  {
   "cell_type": "code",
   "execution_count": 65,
   "metadata": {},
   "outputs": [
    {
     "data": {
      "text/plain": [
       "ColDefs(\n",
       "    name = 'TIME'; format = 'D'; unit = 'BJD - 2457000, days'; disp = 'D14.7'\n",
       "    name = 'TIMECORR'; format = 'E'; unit = 'd'; disp = 'E14.7'\n",
       "    name = 'CADENCENO'; format = 'J'; disp = 'I10'\n",
       "    name = 'RAW_CNTS'; format = '225J'; unit = 'count'; null = -1; disp = 'I8'; dim = '(15, 15)'\n",
       "    name = 'FLUX'; format = '225E'; unit = 'e-/s'; disp = 'E14.7'; dim = '(15, 15)'\n",
       "    name = 'FLUX_ERR'; format = '225E'; unit = 'e-/s'; disp = 'E14.7'; dim = '(15, 15)'\n",
       "    name = 'FLUX_BKG'; format = '225E'; unit = 'e-/s'; disp = 'E14.7'; dim = '(15, 15)'\n",
       "    name = 'FLUX_BKG_ERR'; format = '225E'; unit = 'e-/s'; disp = 'E14.7'; dim = '(15, 15)'\n",
       "    name = 'QUALITY'; format = 'J'; disp = 'B16.16'\n",
       "    name = 'POS_CORR1'; format = 'E'; unit = 'pixel'; disp = 'E14.7'\n",
       "    name = 'POS_CORR2'; format = 'E'; unit = 'pixel'; disp = 'E14.7'\n",
       "    name = 'FFI_FILE'; format = '38A'; unit = 'pixel'\n",
       ")"
      ]
     },
     "execution_count": 65,
     "metadata": {},
     "output_type": "execute_result"
    }
   ],
   "source": [
    "hdulist[0][1].data['TIME']"
   ]
  },
  {
   "cell_type": "code",
   "execution_count": 56,
   "metadata": {},
   "outputs": [
    {
     "ename": "AttributeError",
     "evalue": "'int' object has no attribute 'info'",
     "output_type": "error",
     "traceback": [
      "\u001b[0;31m---------------------------------------------------------------------------\u001b[0m",
      "\u001b[0;31mAttributeError\u001b[0m                            Traceback (most recent call last)",
      "\u001b[0;32m<ipython-input-56-b3718e66cc0b>\u001b[0m in \u001b[0;36m<module>\u001b[0;34m\u001b[0m\n\u001b[1;32m      1\u001b[0m \u001b[0mhdu\u001b[0m\u001b[0;34m=\u001b[0m\u001b[0mhdulist\u001b[0m\u001b[0;34m[\u001b[0m\u001b[0;36m0\u001b[0m\u001b[0;34m]\u001b[0m\u001b[0;34m\u001b[0m\u001b[0m\n\u001b[0;32m----> 2\u001b[0;31m \u001b[0mhdu\u001b[0m\u001b[0;34m.\u001b[0m\u001b[0minfo\u001b[0m\u001b[0;34m(\u001b[0m\u001b[0;34m)\u001b[0m\u001b[0;34m\u001b[0m\u001b[0m\n\u001b[0m",
      "\u001b[0;31mAttributeError\u001b[0m: 'int' object has no attribute 'info'"
     ]
    }
   ],
   "source": [
    "hdu=hdulist[0][1].data\n",
    "hdu.info()"
   ]
  },
  {
   "cell_type": "code",
   "execution_count": null,
   "metadata": {},
   "outputs": [],
   "source": []
  }
 ],
 "metadata": {
  "kernelspec": {
   "display_name": "Python 3",
   "language": "python",
   "name": "python3"
  },
  "language_info": {
   "codemirror_mode": {
    "name": "ipython",
    "version": 3
   },
   "file_extension": ".py",
   "mimetype": "text/x-python",
   "name": "python",
   "nbconvert_exporter": "python",
   "pygments_lexer": "ipython3",
   "version": "3.6.1"
  }
 },
 "nbformat": 4,
 "nbformat_minor": 2
}
