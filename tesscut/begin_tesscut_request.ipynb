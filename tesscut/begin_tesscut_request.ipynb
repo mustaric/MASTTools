{
 "cells": [
  {
   "cell_type": "markdown",
   "metadata": {},
   "source": [
    "<a id=\"title_ID\"></a>\n",
    "# Beginner: Cutout of the TESS Full Frame Image Time Series using Python Requests\n",
    "\n",
    "This notebook shows the user how to use the MAST programmatic interface to create a cutout of the small section of the TESS FFIs. For this example we will determine the RA and Dec for TOI 109.01, which is on TIC 29344935. We then perform a query to determine which sectors contain this RA and Dec, peform a cutout of the FFI time series, open the resulting target pixel files and plot the first image of each file with the WCS overlayed on the image.  \n",
    "\n",
    "This tutorial shows the users how to do the following: use astroquery.catalogs to query the TIC, use the python requests module to query the available sectors, and python requests to obtain a ffi cutout with tesscut.\n",
    "\n",
    "\n",
    "### Table of Contents \n",
    "  [Imports](#imports_ID) <br> \n",
    "  [Astroquery Search of the TIC](#catalog_ID) <br> \n",
    "  [Use Tesscut to get FFI Cutout](#tesscut_ID) <br>\n",
    "  [Additional Resources](#resources_ID) <br> \n",
    "  [About this Notebook](#about_ID) "
   ]
  },
  {
   "cell_type": "markdown",
   "metadata": {},
   "source": [
    "## Import statements for this notebook.\n",
    "<a id=\"imports_ID\"></a>"
   ]
  },
  {
   "cell_type": "code",
   "execution_count": 2,
   "metadata": {},
   "outputs": [],
   "source": [
    "import numpy as np\n",
    "from astropy.io import fits\n",
    "import requests\n",
    "from astroquery.mast import Catalogs\n",
    "import zipfile\n",
    "from astropy.wcs import WCS\n",
    "import matplotlib.pyplot as plt\n",
    "\n",
    "%matplotlib inline\n",
    "\n",
    "#This is the url we are using.\n",
    "urlbase=\"https://mastdev.stsci.edu/tesscut/api/v0.1\"\n",
    "\n",
    "#Next line puts your mast api token in a useful variable for later.\n",
    "#See https://auth.mast.stsci.edu/info\n",
    "masttoken=%env MAST_DV_TOKEN"
   ]
  },
  {
   "cell_type": "markdown",
   "metadata": {},
   "source": [
    "## Get RA and Dec of your Target Using Astroquery Catalogs\n",
    "<a id=\"catalog_ID\"></a>\n",
    "Here we use the astroquery.mast Catalogs query_criteria function to request the RA and Dec of for the object with TIC ID = 261136679. This happens to be Pi Mensae. We collect the Right Ascension and Declination and store them in their own variables.  For good measure, we print out some of the resulting values from the catalog search in a table.  \n",
    "<p>\n",
    "Here we do a cone search using Catalogs.query_object on the TIC catalog. The advantage of doing this is that it gives us the nearby stars as well as the star we are looking for. The resulting table has the closest object first, we print out the ID and Jmag to ensure it matches the star ID we were looking for. "
   ]
  },
  {
   "cell_type": "code",
   "execution_count": 75,
   "metadata": {},
   "outputs": [
    {
     "name": "stdout",
     "output_type": "stream",
     "text": [
      "    ID     Tmag   Jmag      ra       dec     objType\n",
      "--------- ------ ------ --------- ---------- -------\n",
      "261136679  5.097  4.869 84.291198 -80.469143    STAR\n",
      "261139071 13.995 13.495 84.257651  -80.46656    STAR\n",
      "261136683 17.005 15.853 84.339545 -80.481056    STAR\n",
      "261136676 17.059  16.48 84.334532 -80.454208    STAR\n",
      "261139074 16.588 15.801 84.413579 -80.473656    STAR\n",
      "261136685 17.138 16.446  84.37617 -80.484619    STAR\n",
      "261136680 15.659 15.041 84.140787 -80.470734    STAR\n",
      "261139082 16.301  15.29 84.445372 -80.489159    STAR\n",
      "261139070 12.129 11.162 84.496837 -80.466527    STAR\n",
      "261139063 17.078 16.324 84.449139 -80.447029    STAR\n",
      "      ...    ...    ...       ...        ...     ...\n",
      "261136646 15.846 15.169 84.269402 -80.374107    STAR\n",
      "261136648 15.886 15.227 84.139781 -80.377007    STAR\n",
      "261136649 17.729 15.838 84.098766 -80.378242    STAR\n",
      "261136706 18.012 16.412 83.975051 -80.551697    STAR\n",
      "261108079 14.117 13.387 83.867135 -80.401184    STAR\n",
      "261108108 15.672 14.843 83.709349 -80.487099    STAR\n",
      "261139080 16.542 15.758 84.877395 -80.485542    STAR\n",
      "261136647 18.232 16.759 84.101465 -80.375763    STAR\n",
      "261139056 15.622 14.933 84.826048 -80.424507    STAR\n",
      "261136655 15.802 14.997 83.904823 -80.392586    STAR\n",
      "261136713  13.93 13.236 84.062889 -80.561745    STAR\n",
      "Length = 123 rows\n"
     ]
    }
   ],
   "source": [
    "ticid=261136679\n",
    "\n",
    "#catalogData=Catalogs.query_criteria(catalog=\"Tic\",ID=str(ticid))\n",
    "\n",
    "starName=\"TIC \"+str(ticid)\n",
    "rad_search=6/60 #radius in degrees\n",
    "\n",
    "catalogData = Catalogs.query_object(starName, radius=rad_search, catalog=\"TIC\")\n",
    "Ra=catalogData[0]['ra']\n",
    "Dec=catalogData[0]['dec']\n",
    "\n",
    "#Print out the first row in the table\n",
    "print(catalogData[:]['ID','Tmag','Jmag','ra','dec','objType'])"
   ]
  },
  {
   "cell_type": "code",
   "execution_count": 86,
   "metadata": {},
   "outputs": [
    {
     "data": {
      "text/plain": [
       "13"
      ]
     },
     "execution_count": 86,
     "metadata": {},
     "output_type": "execute_result"
    }
   ],
   "source": [
    "#Create a list of nearby bright stars from the rest of the data for later.\n",
    "bright=catalogData['Tmag']<14\n",
    "#Make it a list of Ra, Dec pairs of the bright ones. So this is now a list of nearby bright stars.\n",
    "nearby_stars=list(map(lambda x,y:[x,y], catalogData[bright]['ra'],catalogData[bright]['dec']))\n",
    "len(nearby_stars)"
   ]
  },
  {
   "cell_type": "markdown",
   "metadata": {},
   "source": [
    "## Use sector query to determine which TESS sectors have FFI data\n",
    "<a id=\"catalog_ID\"></a>\n",
    "Using the TESS sector information service, we make a request to determine which sectors/cameras/CCDs contain data for this target. Remember that there is a set of FFIs for each Sector and those are broken up into 4 cameras which each have 4 CCDs.  We will do this with a radius=0 cone search to find only those FFI sets that contain the star of interest. You can make the query using a larger radius, which may matter if the star is near the edge of one of the CCDs.\n",
    "<p>\n",
    "Note, the request is returned in a json format. The 'results' key contains an array of dictionaries with the information we are looking for.  "
   ]
  },
  {
   "cell_type": "code",
   "execution_count": 60,
   "metadata": {},
   "outputs": [
    {
     "name": "stdout",
     "output_type": "stream",
     "text": [
      "application/json; charset=UTF-8\n"
     ]
    }
   ],
   "source": [
    "myparams={\"ra\":Ra, \"dec\":Dec, \"radius\":\"0m\"}\n",
    "url=\"https://mastdev.stsci.edu/tesscut/api/v0.1/sector\"\n",
    "\n",
    "requestData=requests.get(url=url,params=myparams)\n",
    "print(requestData.headers.get('content-type'))"
   ]
  },
  {
   "cell_type": "code",
   "execution_count": 61,
   "metadata": {},
   "outputs": [
    {
     "data": {
      "text/plain": [
       "[{'sectorName': 'tess-s0001-4-2', 'sector': '0001', 'camera': '4', 'ccd': '2'}]"
      ]
     },
     "execution_count": 61,
     "metadata": {},
     "output_type": "execute_result"
    }
   ],
   "source": [
    "sectors=requestData.json()['results']\n",
    "sectors"
   ]
  },
  {
   "cell_type": "markdown",
   "metadata": {},
   "source": [
    "Each element of the array shows one set of sector, camer and CCD that has data for the requested region of sky. "
   ]
  },
  {
   "cell_type": "markdown",
   "metadata": {},
   "source": [
    "<a id=\"tesscut_id\"></a>\n",
    "## Request a 10 x 15 pixel timeseries of FFI cutouts around specified RA and Dec.\n",
    "This delivers a zipped file containing a cutout for each set of FFIs as listed above. It is also possible to request only one sector using the \"sector\" parameter."
   ]
  },
  {
   "cell_type": "code",
   "execution_count": 77,
   "metadata": {},
   "outputs": [
    {
     "name": "stdout",
     "output_type": "stream",
     "text": [
      "<Response [200]>\n",
      "application/zip\n"
     ]
    }
   ],
   "source": [
    "myparams={\"ra\":Ra, \"dec\":Dec, \"x\":30, \"y\":35, \n",
    "           \"units\":\"px\",\"sector\":\"All\"}\n",
    "header={'Authorization': \"token \"+masttoken}\n",
    "\n",
    "url=\"https://mastdev.stsci.edu/tesscut/api/v0.1/astrocut\"\n",
    "\n",
    "r=requests.get(url=url,params=myparams,headers=header)\n",
    "#Check the content type.\n",
    "print(r)\n",
    "print(r.headers.get('content-type'))"
   ]
  },
  {
   "cell_type": "code",
   "execution_count": 78,
   "metadata": {},
   "outputs": [
    {
     "data": {
      "text/plain": [
       "9885450"
      ]
     },
     "execution_count": 78,
     "metadata": {},
     "output_type": "execute_result"
    }
   ],
   "source": [
    "open('astrocut.zip', 'wb').write(r.content)"
   ]
  },
  {
   "cell_type": "markdown",
   "metadata": {},
   "source": [
    "### Open the zip file so we can get at the file.\n",
    "We use python's zipfile to unzip the file, but this could also be done using unzip from the command line. In many cases you will get more than one file, one for each sector that observed the star.  If you ask for a large cutout, you might also get more than one because the pixels are on more than one CCD.  In this case, we got back one file. The name contains the RA and Dec as well as the sector number, camera and chip. "
   ]
  },
  {
   "cell_type": "code",
   "execution_count": 79,
   "metadata": {},
   "outputs": [
    {
     "name": "stdout",
     "output_type": "stream",
     "text": [
      "['tess-s0001-4-2_84.291198_-80.469143_35x30_astrocut.fits']\n"
     ]
    }
   ],
   "source": [
    "zipRef=zipfile.ZipFile('astrocut.zip','r')\n",
    "zipRef.extractall('.')\n",
    "zipRef.close()\n",
    "cutoutnames = zipRef.namelist()\n",
    "print(cutoutnames)"
   ]
  },
  {
   "cell_type": "markdown",
   "metadata": {},
   "source": [
    "### Inspect the contents the file.\n",
    "Use the fits.info function to see the contents of the file. Notice that it has three extensions just like a target pixel file. Most of the interesting information is in the PIXELS extension."
   ]
  },
  {
   "cell_type": "code",
   "execution_count": 80,
   "metadata": {},
   "outputs": [
    {
     "name": "stdout",
     "output_type": "stream",
     "text": [
      "Filename: tess-s0001-4-2_84.291198_-80.469143_35x30_astrocut.fits\n",
      "No.    Name      Ver    Type      Cards   Dimensions   Format\n",
      "  0  PRIMARY       1 PrimaryHDU      54   ()      \n",
      "  1  PIXELS        1 BinTableHDU    244   1282R x 12C   [D, E, J, 1050J, 1050E, 1050E, 1050E, 1050E, J, E, E, 38A]   \n",
      "  2  APERTURE      1 ImageHDU       143   (35, 30)   float64   \n"
     ]
    }
   ],
   "source": [
    "file1=cutoutnames[0]\n",
    "fits.info(file1)"
   ]
  },
  {
   "cell_type": "code",
   "execution_count": 81,
   "metadata": {},
   "outputs": [
    {
     "data": {
      "text/plain": [
       "ColDefs(\n",
       "    name = 'TIME'; format = 'D'; unit = 'BJD - 2457000, days'; disp = 'D14.7'\n",
       "    name = 'TIMECORR'; format = 'E'; unit = 'd'; disp = 'E14.7'\n",
       "    name = 'CADENCENO'; format = 'J'; disp = 'I10'\n",
       "    name = 'RAW_CNTS'; format = '1050J'; unit = 'count'; null = -1; disp = 'I8'; dim = '(35, 30)'\n",
       "    name = 'FLUX'; format = '1050E'; unit = 'e-/s'; disp = 'E14.7'; dim = '(35, 30)'\n",
       "    name = 'FLUX_ERR'; format = '1050E'; unit = 'e-/s'; disp = 'E14.7'; dim = '(35, 30)'\n",
       "    name = 'FLUX_BKG'; format = '1050E'; unit = 'e-/s'; disp = 'E14.7'; dim = '(35, 30)'\n",
       "    name = 'FLUX_BKG_ERR'; format = '1050E'; unit = 'e-/s'; disp = 'E14.7'; dim = '(35, 30)'\n",
       "    name = 'QUALITY'; format = 'J'; disp = 'B16.16'\n",
       "    name = 'POS_CORR1'; format = 'E'; unit = 'pixel'; disp = 'E14.7'\n",
       "    name = 'POS_CORR2'; format = 'E'; unit = 'pixel'; disp = 'E14.7'\n",
       "    name = 'FFI_FILE'; format = '38A'; unit = 'pixel'\n",
       ")"
      ]
     },
     "execution_count": 81,
     "metadata": {},
     "output_type": "execute_result"
    }
   ],
   "source": [
    "hdu1=fits.open(file1)\n",
    "hdu1[1].columns"
   ]
  },
  {
   "cell_type": "markdown",
   "metadata": {},
   "source": [
    "<a id=\"plot_image\"></a>\n",
    "## Plot the First Image of the Data\n"
   ]
  },
  {
   "cell_type": "code",
   "execution_count": 82,
   "metadata": {},
   "outputs": [
    {
     "data": {
      "image/png": "[encoded data removed]",
      "text/plain": [
       "<Figure size 576x576 with 1 Axes>"
      ]
     },
     "metadata": {
      "needs_background": "light"
     },
     "output_type": "display_data"
    }
   ],
   "source": [
    "first_image=hdu1[1].data['FLUX'][0]\n",
    "fig = plt.figure(figsize=(8,8))\n",
    "plt.imshow(first_image, origin='lower', cmap=plt.cm.viridis, vmax=np.percentile(first_image,92),vmin=np.percentile(first_image,5))\n",
    "plt.xlabel('CCD Column',fontsize=14)\n",
    "plt.ylabel('CCD Row',fontsize=14)\n",
    "plt.grid(axis='both',color='white', ls='solid')"
   ]
  },
  {
   "cell_type": "markdown",
   "metadata": {},
   "source": [
    "### Add a WCS to the image and mark the requested star as well as nearby stars.\n",
    "We use the WCS in the header to place a red dot on the image for the catalog position of the star on the figure as a demonstration of the WCS. Remember that the WCS is based on the WCS stored in the FFI file for the central part of the time series and there can be some motion during a sector of observation. "
   ]
  },
  {
   "cell_type": "code",
   "execution_count": 85,
   "metadata": {},
   "outputs": [
    {
     "data": {
      "text/plain": [
       "<matplotlib.collections.PathCollection at 0x11aa493c8>"
      ]
     },
     "execution_count": 85,
     "metadata": {},
     "output_type": "execute_result"
    },
    {
     "data": {
      "image/png": "[encoded data removed]",
      "text/plain": [
       "<Figure size 576x576 with 1 Axes>"
      ]
     },
     "metadata": {
      "needs_background": "light"
     },
     "output_type": "display_data"
    }
   ],
   "source": [
    "wcs=WCS(hdu1[2].header)\n",
    "\n",
    "fig = plt.figure(figsize=(8,8))\n",
    "#fig.add_subplot(111, projection=wcs)\n",
    "plt.imshow(first_image, origin='lower', cmap=plt.cm.viridis, vmax=np.percentile(first_image,92),vmin=np.percentile(first_image,5))\n",
    "plt.xlabel('CCD Column',fontsize=14)\n",
    "plt.ylabel('CCD Row',fontsize=14)\n",
    "plt.grid(axis='both',color='white', ls='solid')\n",
    "\n",
    "starloc=wcs.all_world2pix([[Ra,Dec]],0)  #Second is origin\n",
    "plt.scatter(starloc[0,0],starloc[0,1],s=45,color='red')\n",
    "\n",
    "#Plot nearby stars as well, which we created using our Catalog call above.\n",
    "nearbyloc=wcs.all_world2pix(nearby_stars[1:],0)\n",
    "plt.scatter(nearbyloc[1:,0],nearbyloc[1:,1],s=20,color='orange')"
   ]
  },
  {
   "cell_type": "code",
   "execution_count": null,
   "metadata": {},
   "outputs": [],
   "source": []
  },
  {
   "cell_type": "code",
   "execution_count": 68,
   "metadata": {},
   "outputs": [
    {
     "data": {
      "text/plain": [
       "40548.043203124966"
      ]
     },
     "execution_count": 68,
     "metadata": {},
     "output_type": "execute_result"
    }
   ],
   "source": []
  },
  {
   "cell_type": "markdown",
   "metadata": {},
   "source": [
    "<a id=\"resources_ID\"></a>\n",
    "## Additional Resources\n",
    "[TESScut API Documentation](https://mast.stsci.edu/tesscut/)<br>\n",
    "[Astrocut Documentation](https://astrocut.readthedocs.io/en/latest/)<br>\n",
    "[TESS Homepage](https://archive.stsci.edu/tess)\n"
   ]
  },
  {
   "cell_type": "markdown",
   "metadata": {},
   "source": [
    "<a id=\"about_ID\"></a>\n",
    "## About this Notebook\n",
    "**Author:** Susan E. Mullally, STScI Archive Scientist\n",
    "<br>**Updated On:** 2018-11-13"
   ]
  },
  {
   "cell_type": "markdown",
   "metadata": {},
   "source": [
    "[Top of Page](#title_ID)\n",
    "<img style=\"float: right;\" src=\"./stsci_pri_combo_mark_horizonal_white_bkgd.png\" alt=\"stsci_pri_combo_mark_horizonal_white_bkgd\" width=\"200px\"/> "
   ]
  }
 ],
 "metadata": {
  "kernelspec": {
   "display_name": "Python 3",
   "language": "python",
   "name": "python3"
  },
  "language_info": {
   "codemirror_mode": {
    "name": "ipython",
    "version": 3
   },
   "file_extension": ".py",
   "mimetype": "text/x-python",
   "name": "python",
   "nbconvert_exporter": "python",
   "pygments_lexer": "ipython3",
   "version": "3.6.1"
  }
 },
 "nbformat": 4,
 "nbformat_minor": 2
}
