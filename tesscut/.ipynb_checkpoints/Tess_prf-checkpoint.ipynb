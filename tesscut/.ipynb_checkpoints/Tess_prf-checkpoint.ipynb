{
 "cells": [
  {
   "cell_type": "markdown",
   "metadata": {},
   "source": [
    "# TESS PRF Description\n",
    "\n",
    "The pixel response function (PRF) model consists of the optical point spread function convolved with the channel pixel response and jitter model. They are current provided in a MATLAB binary proprietary data format (mat-files).\n",
    "\n",
    "Because we are reading in a MATLAB file using Python, there is a lot of data munging to make the information more accessible.\n",
    "\n",
    "In this notebook we open the PRF models and describe the information contained in the file so they can be used to fit PRFs to the data. Based on the file name we know this is for Camera 1 and Sector2"
   ]
  },
  {
   "cell_type": "code",
   "execution_count": 59,
   "metadata": {},
   "outputs": [],
   "source": [
    "import scipy.io as spio\n",
    "import matplotlib.pyplot as plt\n",
    "\n",
    "filename = \"/Users/smullally/TESS/engineering/PRF/tess2018243163600-00072_035-1-2-characterized-prf.mat\""
   ]
  },
  {
   "cell_type": "code",
   "execution_count": 37,
   "metadata": {},
   "outputs": [],
   "source": [
    "mat = spio.loadmat(filename,mat_dtype=True, struct_as_record=True,chars_as_strings=False)"
   ]
  },
  {
   "cell_type": "code",
   "execution_count": 38,
   "metadata": {},
   "outputs": [
    {
     "data": {
      "text/plain": [
       "25"
      ]
     },
     "execution_count": 38,
     "metadata": {},
     "output_type": "execute_result"
    }
   ],
   "source": [
    "prfStruct=mat['prfStruct'][0]\n",
    "len(prfStruct)"
   ]
  },
  {
   "cell_type": "markdown",
   "metadata": {},
   "source": [
    "The model contains 25 PRF, which are each centered in a different location across the CCD.   Let's get a list of the central Row and Columns of these PRFs."
   ]
  },
  {
   "cell_type": "code",
   "execution_count": 43,
   "metadata": {},
   "outputs": [],
   "source": [
    "ccdRows = list ( map ( lambda x: x[0][0], prfStruct['ccdRow']) )\n",
    "ccdColumns = list (map (lambda x: x[0][0], prfStruct['ccdColumn']))"
   ]
  },
  {
   "cell_type": "code",
   "execution_count": 53,
   "metadata": {},
   "outputs": [],
   "source": [
    "locs = list(map ( lambda x,y: [x,y], ccdColumns, ccdRows) )"
   ]
  },
  {
   "cell_type": "markdown",
   "metadata": {},
   "source": [
    "Let's just consider the model for the PRF for the first location of the CCD.  The PRF model for that location consists of how the light of the star would appear if the center of the light fell on different parts of that central pixel. \n",
    "Let's start by getting the PRF model for when the star lands in the center of the pixel. (0,0)"
   ]
  },
  {
   "cell_type": "code",
   "execution_count": 54,
   "metadata": {},
   "outputs": [
    {
     "name": "stdout",
     "output_type": "stream",
     "text": [
      "(117, 117)\n",
      "(117, 1)\n",
      "(1, 117)\n",
      "[45.0, 1.0]\n"
     ]
    }
   ],
   "source": [
    "values = prfStruct['values']\n",
    "print(values[0].shape)\n",
    "prfRows = prfStruct['prfRow']\n",
    "print(prfRows[0].shape)\n",
    "prfCols = prfStruct['prfColumn']\n",
    "print(prfCols[0].shape)\n",
    "print(locs[0])"
   ]
  },
  {
   "cell_type": "markdown",
   "metadata": {},
   "source": [
    "To get the PRF image for a star that falls on the central pixel, we need to use the 58th entry in the array.  Then we need to sample every 9th row and column to get a 13x13 image which represents the PRF model image for this case.   All of this is stored in the values 2D array which is 117 x 117. Basically we need to count by 9 in both directions and pull out the image represented by those pixels. "
   ]
  },
  {
   "cell_type": "code",
   "execution_count": 58,
   "metadata": {},
   "outputs": [
    {
     "data": {
      "text/plain": [
       "array([[-6.44444444],\n",
       "       [-6.33333333],\n",
       "       [-6.22222222],\n",
       "       [-6.11111111],\n",
       "       [-6.        ],\n",
       "       [-5.88888889],\n",
       "       [-5.77777778],\n",
       "       [-5.66666667],\n",
       "       [-5.55555556],\n",
       "       [-5.44444444],\n",
       "       [-5.33333333],\n",
       "       [-5.22222222],\n",
       "       [-5.11111111],\n",
       "       [-5.        ],\n",
       "       [-4.88888889],\n",
       "       [-4.77777778],\n",
       "       [-4.66666667],\n",
       "       [-4.55555556],\n",
       "       [-4.44444444],\n",
       "       [-4.33333333],\n",
       "       [-4.22222222],\n",
       "       [-4.11111111],\n",
       "       [-4.        ],\n",
       "       [-3.88888889],\n",
       "       [-3.77777778],\n",
       "       [-3.66666667],\n",
       "       [-3.55555556],\n",
       "       [-3.44444444],\n",
       "       [-3.33333333],\n",
       "       [-3.22222222],\n",
       "       [-3.11111111],\n",
       "       [-3.        ],\n",
       "       [-2.88888889],\n",
       "       [-2.77777778],\n",
       "       [-2.66666667],\n",
       "       [-2.55555556],\n",
       "       [-2.44444444],\n",
       "       [-2.33333333],\n",
       "       [-2.22222222],\n",
       "       [-2.11111111],\n",
       "       [-2.        ],\n",
       "       [-1.88888889],\n",
       "       [-1.77777778],\n",
       "       [-1.66666667],\n",
       "       [-1.55555556],\n",
       "       [-1.44444444],\n",
       "       [-1.33333333],\n",
       "       [-1.22222222],\n",
       "       [-1.11111111],\n",
       "       [-1.        ],\n",
       "       [-0.88888889],\n",
       "       [-0.77777778],\n",
       "       [-0.66666667],\n",
       "       [-0.55555556],\n",
       "       [-0.44444444],\n",
       "       [-0.33333333],\n",
       "       [-0.22222222],\n",
       "       [-0.11111111],\n",
       "       [ 0.        ],\n",
       "       [ 0.11111111],\n",
       "       [ 0.22222222],\n",
       "       [ 0.33333333],\n",
       "       [ 0.44444444],\n",
       "       [ 0.55555556],\n",
       "       [ 0.66666667],\n",
       "       [ 0.77777778],\n",
       "       [ 0.88888889],\n",
       "       [ 1.        ],\n",
       "       [ 1.11111111],\n",
       "       [ 1.22222222],\n",
       "       [ 1.33333333],\n",
       "       [ 1.44444444],\n",
       "       [ 1.55555556],\n",
       "       [ 1.66666667],\n",
       "       [ 1.77777778],\n",
       "       [ 1.88888889],\n",
       "       [ 2.        ],\n",
       "       [ 2.11111111],\n",
       "       [ 2.22222222],\n",
       "       [ 2.33333333],\n",
       "       [ 2.44444444],\n",
       "       [ 2.55555556],\n",
       "       [ 2.66666667],\n",
       "       [ 2.77777778],\n",
       "       [ 2.88888889],\n",
       "       [ 3.        ],\n",
       "       [ 3.11111111],\n",
       "       [ 3.22222222],\n",
       "       [ 3.33333333],\n",
       "       [ 3.44444444],\n",
       "       [ 3.55555556],\n",
       "       [ 3.66666667],\n",
       "       [ 3.77777778],\n",
       "       [ 3.88888889],\n",
       "       [ 4.        ],\n",
       "       [ 4.11111111],\n",
       "       [ 4.22222222],\n",
       "       [ 4.33333333],\n",
       "       [ 4.44444444],\n",
       "       [ 4.55555556],\n",
       "       [ 4.66666667],\n",
       "       [ 4.77777778],\n",
       "       [ 4.88888889],\n",
       "       [ 5.        ],\n",
       "       [ 5.11111111],\n",
       "       [ 5.22222222],\n",
       "       [ 5.33333333],\n",
       "       [ 5.44444444],\n",
       "       [ 5.55555556],\n",
       "       [ 5.66666667],\n",
       "       [ 5.77777778],\n",
       "       [ 5.88888889],\n",
       "       [ 6.        ],\n",
       "       [ 6.11111111],\n",
       "       [ 6.22222222],\n",
       "       [ 6.33333333],\n",
       "       [ 6.44444444]])"
      ]
     },
     "execution_count": 58,
     "metadata": {},
     "output_type": "execute_result"
    }
   ],
   "source": [
    "prfRows[0]"
   ]
  },
  {
   "cell_type": "code",
   "execution_count": 60,
   "metadata": {},
   "outputs": [
    {
     "data": {
      "text/plain": [
       "<matplotlib.image.AxesImage at 0xb15f79a58>"
      ]
     },
     "execution_count": 60,
     "metadata": {},
     "output_type": "execute_result"
    },
    {
     "data": {
      "image/png": "[encoded data removed]",
      "text/plain": [
       "<Figure size 432x288 with 1 Axes>"
      ]
     },
     "metadata": {
      "needs_background": "light"
     },
     "output_type": "display_data"
    }
   ],
   "source": [
    "plt.imshow(values[0])"
   ]
  },
  {
   "cell_type": "code",
   "execution_count": 70,
   "metadata": {},
   "outputs": [],
   "source": [
    "from astroquery.mast import Tesscut \n",
    "from astropy.coordinates import SkyCoord\n",
    "Tesscut._TESSCUT_URL = 'https://masttest.stsci.edu/tesscut/api/v0.1/'\n",
    "masttoken = %env MAST_TEST_TOKEN\n",
    "Tesscut._session.headers[\"Authorization\"] = \"token %s\" % masttoken"
   ]
  },
  {
   "cell_type": "code",
   "execution_count": 71,
   "metadata": {},
   "outputs": [
    {
     "data": {
      "text/plain": [
       "<SkyCoord (ICRS): (ra, dec) in deg\n",
       "    (313.75, -47.25)>"
      ]
     },
     "execution_count": 71,
     "metadata": {},
     "output_type": "execute_result"
    }
   ],
   "source": [
    "coord = SkyCoord(313.75, -47.25, unit=\"deg\")\n",
    "coord"
   ]
  },
  {
   "cell_type": "code",
   "execution_count": 72,
   "metadata": {},
   "outputs": [
    {
     "name": "stderr",
     "output_type": "stream",
     "text": [
      "WARNING: NoResultsWarning: No FFIs found for input target. Cutout not performed. [astroquery.mast.tesscut]\n"
     ]
    }
   ],
   "source": [
    "hdulist=Tesscut.get_cutouts(coord,50)"
   ]
  },
  {
   "cell_type": "code",
   "execution_count": null,
   "metadata": {},
   "outputs": [],
   "source": []
  }
 ],
 "metadata": {
  "kernelspec": {
   "display_name": "Python 3",
   "language": "python",
   "name": "python3"
  },
  "language_info": {
   "codemirror_mode": {
    "name": "ipython",
    "version": 3
   },
   "file_extension": ".py",
   "mimetype": "text/x-python",
   "name": "python",
   "nbconvert_exporter": "python",
   "pygments_lexer": "ipython3",
   "version": "3.6.1"
  }
 },
 "nbformat": 4,
 "nbformat_minor": 2
}
