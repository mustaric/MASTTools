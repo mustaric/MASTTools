{
  "nbformat": 4,
  "nbformat_minor": 0,
  "metadata": {
    "colab": {
      "name": "quick_planet_finder.ipynb",
      "version": "0.3.2",
      "provenance": [],
      "include_colab_link": true
    },
    "kernelspec": {
      "name": "python3",
      "display_name": "Python 3"
    }
  },
  "cells": [
    {
      "cell_type": "markdown",
      "metadata": {
        "id": "view-in-github",
        "colab_type": "text"
      },
      "source": [
        "<a href=\"https://colab.research.google.com/github/mustaric/MASTTools/blob/master/quick_planet_finder.ipynb\" target=\"_parent\"><img src=\"https://colab.research.google.com/assets/colab-badge.svg\" alt=\"Open In Colab\"/></a>"
      ]
    },
    {
      "metadata": {
        "id": "uInWy6vWwmo6",
        "colab_type": "code",
        "colab": {}
      },
      "cell_type": "code",
      "source": [
        "from astropy.io import fits"
      ],
      "execution_count": 0,
      "outputs": []
    },
    {
      "metadata": {
        "id": "LuKze-FBw-G6",
        "colab_type": "code",
        "colab": {
          "base_uri": "https://localhost:8080/",
          "height": 662
        },
        "outputId": "15c855d5-9dbf-442c-bb7b-5df07a224cf1"
      },
      "cell_type": "code",
      "source": [
        "!pip install astroquery"
      ],
      "execution_count": 3,
      "outputs": [
        {
          "output_type": "stream",
          "text": [
            "Collecting astroquery\n",
            "\u001b[?25l  Downloading https://files.pythonhosted.org/packages/61/50/a7a08f9e54d7d9d97e69433cd88231e1ad2901811c9d1ae9ac7ccaef9396/astroquery-0.3.9.tar.gz (4.2MB)\n",
            "\u001b[K    100% |████████████████████████████████| 4.2MB 6.0MB/s \n",
            "\u001b[?25hRequirement already satisfied: astropy>=1.0 in /usr/local/lib/python3.6/dist-packages (from astroquery) (3.0.5)\n",
            "Requirement already satisfied: requests>=2.4.3 in /usr/local/lib/python3.6/dist-packages (from astroquery) (2.18.4)\n",
            "Collecting keyring>=4.0 (from astroquery)\n",
            "  Downloading https://files.pythonhosted.org/packages/28/01/06f2e55264994a89d543ee37f2cfc4af85800824a8ca5c6532f715ff41a9/keyring-17.1.1-py2.py3-none-any.whl\n",
            "Requirement already satisfied: beautifulsoup4>=4.3.2 in /usr/local/lib/python3.6/dist-packages (from astroquery) (4.6.3)\n",
            "Requirement already satisfied: html5lib>=0.999 in /usr/local/lib/python3.6/dist-packages (from astroquery) (1.0.1)\n",
            "Requirement already satisfied: numpy>=1.10.0 in /usr/local/lib/python3.6/dist-packages (from astropy>=1.0->astroquery) (1.14.6)\n",
            "Requirement already satisfied: idna<2.7,>=2.5 in /usr/local/lib/python3.6/dist-packages (from requests>=2.4.3->astroquery) (2.6)\n",
            "Requirement already satisfied: chardet<3.1.0,>=3.0.2 in /usr/local/lib/python3.6/dist-packages (from requests>=2.4.3->astroquery) (3.0.4)\n",
            "Requirement already satisfied: certifi>=2017.4.17 in /usr/local/lib/python3.6/dist-packages (from requests>=2.4.3->astroquery) (2018.11.29)\n",
            "Requirement already satisfied: urllib3<1.23,>=1.21.1 in /usr/local/lib/python3.6/dist-packages (from requests>=2.4.3->astroquery) (1.22)\n",
            "Requirement already satisfied: entrypoints in /usr/local/lib/python3.6/dist-packages (from keyring>=4.0->astroquery) (0.3)\n",
            "Collecting secretstorage; sys_platform == \"linux\" and python_version >= \"3.5\" (from keyring>=4.0->astroquery)\n",
            "  Downloading https://files.pythonhosted.org/packages/82/59/cb226752e20d83598d7fdcabd7819570b0329a61db07cfbdd21b2ef546e3/SecretStorage-3.1.1-py3-none-any.whl\n",
            "Requirement already satisfied: webencodings in /usr/local/lib/python3.6/dist-packages (from html5lib>=0.999->astroquery) (0.5.1)\n",
            "Requirement already satisfied: six>=1.9 in /usr/local/lib/python3.6/dist-packages (from html5lib>=0.999->astroquery) (1.11.0)\n",
            "Collecting cryptography (from secretstorage; sys_platform == \"linux\" and python_version >= \"3.5\"->keyring>=4.0->astroquery)\n",
            "\u001b[?25l  Downloading https://files.pythonhosted.org/packages/98/71/e632e222f34632e0527dd41799f7847305e701f38f512d81bdf96009bca4/cryptography-2.5-cp34-abi3-manylinux1_x86_64.whl (2.4MB)\n",
            "\u001b[K    100% |████████████████████████████████| 2.4MB 11.5MB/s \n",
            "\u001b[?25hCollecting jeepney (from secretstorage; sys_platform == \"linux\" and python_version >= \"3.5\"->keyring>=4.0->astroquery)\n",
            "\u001b[?25l  Downloading https://files.pythonhosted.org/packages/2b/f7/ff23b9b59534f501d47c327576aadda59da5b83d76ff837e6075bc325b9f/jeepney-0.4-py3-none-any.whl (59kB)\n",
            "\u001b[K    100% |████████████████████████████████| 61kB 20.3MB/s \n",
            "\u001b[?25hCollecting asn1crypto>=0.21.0 (from cryptography->secretstorage; sys_platform == \"linux\" and python_version >= \"3.5\"->keyring>=4.0->astroquery)\n",
            "\u001b[?25l  Downloading https://files.pythonhosted.org/packages/ea/cd/35485615f45f30a510576f1a56d1e0a7ad7bd8ab5ed7cdc600ef7cd06222/asn1crypto-0.24.0-py2.py3-none-any.whl (101kB)\n",
            "\u001b[K    100% |████████████████████████████████| 102kB 10.6MB/s \n",
            "\u001b[?25hRequirement already satisfied: cffi!=1.11.3,>=1.8 in /usr/local/lib/python3.6/dist-packages (from cryptography->secretstorage; sys_platform == \"linux\" and python_version >= \"3.5\"->keyring>=4.0->astroquery) (1.11.5)\n",
            "Requirement already satisfied: pycparser in /usr/local/lib/python3.6/dist-packages (from cffi!=1.11.3,>=1.8->cryptography->secretstorage; sys_platform == \"linux\" and python_version >= \"3.5\"->keyring>=4.0->astroquery) (2.19)\n",
            "Building wheels for collected packages: astroquery\n",
            "  Building wheel for astroquery (setup.py) ... \u001b[?25ldone\n",
            "\u001b[?25h  Stored in directory: /root/.cache/pip/wheels/8a/d1/1e/4124d9ef35e2bbfbaa284c97dd49d9babbab42d966c4bea190\n",
            "Successfully built astroquery\n",
            "Installing collected packages: asn1crypto, cryptography, jeepney, secretstorage, keyring, astroquery\n",
            "Successfully installed asn1crypto-0.24.0 astroquery-0.3.9 cryptography-2.5 jeepney-0.4 keyring-17.1.1 secretstorage-3.1.1\n"
          ],
          "name": "stdout"
        }
      ]
    },
    {
      "metadata": {
        "id": "dxphE8MHxDNL",
        "colab_type": "code",
        "colab": {
          "base_uri": "https://localhost:8080/",
          "height": 1044
        },
        "outputId": "809c6115-7920-4316-9988-b5b1712a1def"
      },
      "cell_type": "code",
      "source": [
        "!pip install lightkurve"
      ],
      "execution_count": 4,
      "outputs": [
        {
          "output_type": "stream",
          "text": [
            "Collecting lightkurve\n",
            "\u001b[?25l  Downloading https://files.pythonhosted.org/packages/16/37/5fbba01a1bb372c7633679f4169c6e58581e63a8f81df2433dc49f126ecb/lightkurve-1.0b26.tar.gz (434kB)\n",
            "\u001b[K    100% |████████████████████████████████| 440kB 12.7MB/s \n",
            "\u001b[?25hRequirement already satisfied: numpy>=1.11 in /usr/local/lib/python3.6/dist-packages (from lightkurve) (1.14.6)\n",
            "Requirement already satisfied: astropy>=1.3 in /usr/local/lib/python3.6/dist-packages (from lightkurve) (3.0.5)\n",
            "Requirement already satisfied: scipy>=0.19.0 in /usr/local/lib/python3.6/dist-packages (from lightkurve) (1.1.0)\n",
            "Requirement already satisfied: matplotlib>=1.5.3 in /usr/local/lib/python3.6/dist-packages (from lightkurve) (3.0.2)\n",
            "Requirement already satisfied: tqdm in /usr/local/lib/python3.6/dist-packages (from lightkurve) (4.28.1)\n",
            "Collecting oktopus (from lightkurve)\n",
            "  Downloading https://files.pythonhosted.org/packages/2d/6e/7b7e11442ff70286c22614d200f6145f83528dc6c99fec0982665e25c8d3/oktopus-0.1.2.tar.gz\n",
            "Requirement already satisfied: bs4 in /usr/local/lib/python3.6/dist-packages (from lightkurve) (0.0.1)\n",
            "Requirement already satisfied: requests in /usr/local/lib/python3.6/dist-packages (from lightkurve) (2.18.4)\n",
            "Requirement already satisfied: astroquery>=0.3.7 in /usr/local/lib/python3.6/dist-packages (from lightkurve) (0.3.9)\n",
            "Requirement already satisfied: pandas in /usr/local/lib/python3.6/dist-packages (from lightkurve) (0.22.0)\n",
            "Requirement already satisfied: scikit-learn in /usr/local/lib/python3.6/dist-packages (from lightkurve) (0.20.2)\n",
            "Collecting pybind11 (from lightkurve)\n",
            "\u001b[?25l  Downloading https://files.pythonhosted.org/packages/f2/7c/e71995e59e108799800cb0fce6c4b4927914d7eada0723dd20bae3b51786/pybind11-2.2.4-py2.py3-none-any.whl (145kB)\n",
            "\u001b[K    100% |████████████████████████████████| 153kB 31.4MB/s \n",
            "\u001b[?25hCollecting celerite (from lightkurve)\n",
            "\u001b[?25l  Downloading https://files.pythonhosted.org/packages/52/4a/39a9f610607b0e53c0153f2dcf3f07693cfebca78c53f5250b9be46429eb/celerite-0.3.0.tar.gz (1.3MB)\n",
            "\u001b[K    100% |████████████████████████████████| 1.4MB 16.5MB/s \n",
            "\u001b[?25hRequirement already satisfied: python-dateutil>=2.1 in /usr/local/lib/python3.6/dist-packages (from matplotlib>=1.5.3->lightkurve) (2.5.3)\n",
            "Requirement already satisfied: cycler>=0.10 in /usr/local/lib/python3.6/dist-packages (from matplotlib>=1.5.3->lightkurve) (0.10.0)\n",
            "Requirement already satisfied: kiwisolver>=1.0.1 in /usr/local/lib/python3.6/dist-packages (from matplotlib>=1.5.3->lightkurve) (1.0.1)\n",
            "Requirement already satisfied: pyparsing!=2.0.4,!=2.1.2,!=2.1.6,>=2.0.1 in /usr/local/lib/python3.6/dist-packages (from matplotlib>=1.5.3->lightkurve) (2.3.1)\n",
            "Requirement already satisfied: autograd in /usr/local/lib/python3.6/dist-packages (from oktopus->lightkurve) (1.2)\n",
            "Requirement already satisfied: beautifulsoup4 in /usr/local/lib/python3.6/dist-packages (from bs4->lightkurve) (4.6.3)\n",
            "Requirement already satisfied: chardet<3.1.0,>=3.0.2 in /usr/local/lib/python3.6/dist-packages (from requests->lightkurve) (3.0.4)\n",
            "Requirement already satisfied: idna<2.7,>=2.5 in /usr/local/lib/python3.6/dist-packages (from requests->lightkurve) (2.6)\n",
            "Requirement already satisfied: certifi>=2017.4.17 in /usr/local/lib/python3.6/dist-packages (from requests->lightkurve) (2018.11.29)\n",
            "Requirement already satisfied: urllib3<1.23,>=1.21.1 in /usr/local/lib/python3.6/dist-packages (from requests->lightkurve) (1.22)\n",
            "Requirement already satisfied: keyring>=4.0 in /usr/local/lib/python3.6/dist-packages (from astroquery>=0.3.7->lightkurve) (17.1.1)\n",
            "Requirement already satisfied: html5lib>=0.999 in /usr/local/lib/python3.6/dist-packages (from astroquery>=0.3.7->lightkurve) (1.0.1)\n",
            "Requirement already satisfied: pytz>=2011k in /usr/local/lib/python3.6/dist-packages (from pandas->lightkurve) (2018.9)\n",
            "Requirement already satisfied: six>=1.5 in /usr/local/lib/python3.6/dist-packages (from python-dateutil>=2.1->matplotlib>=1.5.3->lightkurve) (1.11.0)\n",
            "Requirement already satisfied: setuptools in /usr/local/lib/python3.6/dist-packages (from kiwisolver>=1.0.1->matplotlib>=1.5.3->lightkurve) (40.8.0)\n",
            "Requirement already satisfied: future>=0.15.2 in /usr/local/lib/python3.6/dist-packages (from autograd->oktopus->lightkurve) (0.16.0)\n",
            "Requirement already satisfied: secretstorage; sys_platform == \"linux\" and python_version >= \"3.5\" in /usr/local/lib/python3.6/dist-packages (from keyring>=4.0->astroquery>=0.3.7->lightkurve) (3.1.1)\n",
            "Requirement already satisfied: entrypoints in /usr/local/lib/python3.6/dist-packages (from keyring>=4.0->astroquery>=0.3.7->lightkurve) (0.3)\n",
            "Requirement already satisfied: webencodings in /usr/local/lib/python3.6/dist-packages (from html5lib>=0.999->astroquery>=0.3.7->lightkurve) (0.5.1)\n",
            "Requirement already satisfied: jeepney in /usr/local/lib/python3.6/dist-packages (from secretstorage; sys_platform == \"linux\" and python_version >= \"3.5\"->keyring>=4.0->astroquery>=0.3.7->lightkurve) (0.4)\n",
            "Requirement already satisfied: cryptography in /usr/local/lib/python3.6/dist-packages (from secretstorage; sys_platform == \"linux\" and python_version >= \"3.5\"->keyring>=4.0->astroquery>=0.3.7->lightkurve) (2.5)\n",
            "Requirement already satisfied: asn1crypto>=0.21.0 in /usr/local/lib/python3.6/dist-packages (from cryptography->secretstorage; sys_platform == \"linux\" and python_version >= \"3.5\"->keyring>=4.0->astroquery>=0.3.7->lightkurve) (0.24.0)\n",
            "Requirement already satisfied: cffi!=1.11.3,>=1.8 in /usr/local/lib/python3.6/dist-packages (from cryptography->secretstorage; sys_platform == \"linux\" and python_version >= \"3.5\"->keyring>=4.0->astroquery>=0.3.7->lightkurve) (1.11.5)\n",
            "Requirement already satisfied: pycparser in /usr/local/lib/python3.6/dist-packages (from cffi!=1.11.3,>=1.8->cryptography->secretstorage; sys_platform == \"linux\" and python_version >= \"3.5\"->keyring>=4.0->astroquery>=0.3.7->lightkurve) (2.19)\n",
            "Building wheels for collected packages: lightkurve, oktopus, celerite\n",
            "  Building wheel for lightkurve (setup.py) ... \u001b[?25ldone\n",
            "\u001b[?25h  Stored in directory: /root/.cache/pip/wheels/01/2a/03/fd4864b44001a099b98c17e38a20d3b4a8543babdf1c9c87bf\n",
            "  Building wheel for oktopus (setup.py) ... \u001b[?25ldone\n",
            "\u001b[?25h  Stored in directory: /root/.cache/pip/wheels/9b/90/81/098fc66ee56166d63c9a8fc0a9672ae7b3423396a588ec952a\n",
            "  Building wheel for celerite (setup.py) ... \u001b[?25lerror\n",
            "\u001b[31m  Failed building wheel for celerite\u001b[0m\n",
            "\u001b[?25h  Running setup.py clean for celerite\n",
            "Successfully built lightkurve oktopus\n",
            "Failed to build celerite\n",
            "Installing collected packages: oktopus, pybind11, celerite, lightkurve\n",
            "  Running setup.py install for celerite ... \u001b[?25ldone\n",
            "\u001b[?25hSuccessfully installed celerite-0.3.0 lightkurve-1.0b26 oktopus-0.1.2 pybind11-2.2.4\n"
          ],
          "name": "stdout"
        }
      ]
    },
    {
      "metadata": {
        "id": "2KWnpFl3xRGE",
        "colab_type": "code",
        "colab": {
          "base_uri": "https://localhost:8080/",
          "height": 165
        },
        "outputId": "5a2e795d-3be8-4f67-ab2d-c222e697e28e"
      },
      "cell_type": "code",
      "source": [
        ""
      ],
      "execution_count": 5,
      "outputs": [
        {
          "output_type": "error",
          "ename": "NameError",
          "evalue": "ignored",
          "traceback": [
            "\u001b[0;31m---------------------------------------------------------------------------\u001b[0m",
            "\u001b[0;31mNameError\u001b[0m                                 Traceback (most recent call last)",
            "\u001b[0;32m<ipython-input-5-098884519934>\u001b[0m in \u001b[0;36m<module>\u001b[0;34m()\u001b[0m\n\u001b[0;32m----> 1\u001b[0;31m \u001b[0mastroquery\u001b[0m\u001b[0;34m.\u001b[0m\u001b[0mmast\u001b[0m\u001b[0;34m.\u001b[0m\u001b[0mtesscut\u001b[0m\u001b[0;34m\u001b[0m\u001b[0;34m\u001b[0m\u001b[0m\n\u001b[0m",
            "\u001b[0;31mNameError\u001b[0m: name 'astroquery' is not defined"
          ]
        }
      ]
    },
    {
      "metadata": {
        "id": "v2f22yw02ZLU",
        "colab_type": "code",
        "colab": {}
      },
      "cell_type": "code",
      "source": [
        ""
      ],
      "execution_count": 0,
      "outputs": []
    },
    {
      "metadata": {
        "id": "VConqby-2Z23",
        "colab_type": "text"
      },
      "cell_type": "markdown",
      "source": [
        ""
      ]
    },
    {
      "metadata": {
        "id": "xw7vpU8UxV5b",
        "colab_type": "code",
        "colab": {}
      },
      "cell_type": "code",
      "source": [
        ""
      ],
      "execution_count": 0,
      "outputs": []
    }
  ]
}