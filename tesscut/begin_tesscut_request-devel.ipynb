{
 "cells": [
  {
   "cell_type": "markdown",
   "metadata": {},
   "source": [
    "<a id=\"title_ID\"></a>\n",
    "# Beginner: Cutout of the TESS Full Frame Image Time Series using Python Requests\n",
    "\n",
    "This notebook shows the user how to use the MAST programmatic interface to create a cutout of the small section of the TESS FFIs. For this example we will determine the RA and Dec for TOI 109.01, which is on TIC 29344935. We then perform a query to determine which sectors contain this RA and Dec, peform a cutout of the FFI time series, open the resulting target pixel files and plot the first image of each file with the WCS overlayed on the image.  \n",
    "\n",
    "This tutorial shows the users how to do the following: use astroquery.catalogs to query the TIC, use the python requests module to query the available sectors, and python requests to obtain a ffi cutout with tesscut.\n",
    "\n",
    "\n",
    "### Table of Contents \n",
    "  [Imports](#imports_ID) <br> \n",
    "  [Astroquery Search of the TIC](#catalog_ID) <br> \n",
    "  [Use Tesscut to get FFI Cutout](#tesscut_ID) <br>\n",
    "  [Additional Resources](#resources_ID) <br> \n",
    "  [About this Notebook](#about_ID) "
   ]
  },
  {
   "cell_type": "markdown",
   "metadata": {},
   "source": [
    "## Import statements for this notebook.\n",
    "<a id=\"imports_ID\"></a>"
   ]
  },
  {
   "cell_type": "code",
   "execution_count": 9,
   "metadata": {},
   "outputs": [],
   "source": [
    "import numpy as np\n",
    "from astropy.io import fits\n",
    "import requests\n",
    "from astroquery.mast import Catalogs\n",
    "import zipfile\n",
    "from astropy.wcs import WCS\n",
    "import matplotlib.pyplot as plt\n",
    "\n",
    "%matplotlib inline\n",
    "#Next line puts your mast api token in a useful variable for later.\n",
    "#See https://auth.mast.stsci.edu/info\n",
    "masttoken=%env MAST_DV_TOKEN\n",
    "urlbase=\"https://mastdev.stsci.edu/tesscut/api/v0.1\""
   ]
  },
  {
   "cell_type": "markdown",
   "metadata": {},
   "source": [
    "## Get RA and Dec of your target using Astroquery Catalogs\n",
    "<a id=\"catalog_ID\"></a>\n",
    "Here we use the astroquery.mast Catalogs query_criteria function to request the RA and Dec of for the object with TIC ID = 29344935. We collect the RA and Declination and store them in their own variables.  For good measure, we print out some of the resulting values from the catalog search in a table.  \n",
    "<p>\n",
    "Note, that the catalog name is \"Tic\". This specific capitalization is required for this to work."
   ]
  },
  {
   "cell_type": "code",
   "execution_count": 146,
   "metadata": {},
   "outputs": [
    {
     "name": "stdout",
     "output_type": "stream",
     "text": [
      "    ID     Jmag    ra      dec   objType\n",
      "--------- ----- -------- ------- -------\n",
      "307210830 7.933 124.5319 -68.313    STAR\n"
     ]
    }
   ],
   "source": [
    "ticid=25155310\n",
    "ticid=307210830\n",
    "#ticid=261136679\n",
    "starName=\"TIC \"+str(ticid)\n",
    "rad_search=10/60 #radius in degrees\n",
    "#catalogData=Catalogs.query_criteria(catalog=\"Tic\",ID=str(ticid))\n",
    "catalogData = Catalogs.query_object(starName, radius=rad_search, catalog=\"TIC\")\n",
    "Ra=catalogData[0]['ra']\n",
    "Dec=catalogData[0]['dec']\n",
    "print(catalogData[0]['ID','Jmag','ra','dec','objType'])\n",
    "\n",
    "bright=catalogData['Jmag']<12"
   ]
  },
  {
   "cell_type": "markdown",
   "metadata": {},
   "source": [
    "## Use sector query to determine which TESS sectors have FFI data\n",
    "<a id=\"catalog_ID\"></a>\n",
    "Using the tess sector information service, we make a request to determine which sectors/cameras/CCDs contain data for this target. Remember that there is a set of FFIs for each Sector and those are broken up into 4 cameras which each have 4 CCDs.  We will do this with a radius=0 cone search to find only those FFI sets that contain the star of interest. You can make the query using a larger radius, which may matter if the star is near the edge of one of the CCDs.\n",
    "<p>\n",
    "Note, the request is returned in a json format. The 'results' key contains an array of dictionaries with the information we are looking for.  "
   ]
  },
  {
   "cell_type": "code",
   "execution_count": 147,
   "metadata": {},
   "outputs": [
    {
     "name": "stdout",
     "output_type": "stream",
     "text": [
      "application/json; charset=UTF-8\n"
     ]
    }
   ],
   "source": [
    "myparams={\"ra\":Ra, \"dec\":Dec, \"radius\":\"0m\"}\n",
    "url=urlbase+\"/sector\"\n",
    "\n",
    "requestData=requests.get(url=url,params=myparams)\n",
    "print(requestData.headers.get('content-type'))"
   ]
  },
  {
   "cell_type": "code",
   "execution_count": 148,
   "metadata": {},
   "outputs": [
    {
     "data": {
      "text/plain": [
       "[{'sectorName': 'tess-s0001-4-3', 'sector': '0001', 'camera': '4', 'ccd': '3'},\n",
       " {'sectorName': 'tess-s0002-4-3', 'sector': '0002', 'camera': '4', 'ccd': '3'}]"
      ]
     },
     "execution_count": 148,
     "metadata": {},
     "output_type": "execute_result"
    }
   ],
   "source": [
    "sectors=requestData.json()['results']\n",
    "sectors"
   ]
  },
  {
   "cell_type": "markdown",
   "metadata": {},
   "source": [
    "Each element of the array shows one set of sector, camer and CCD that has data for the requested region of sky. "
   ]
  },
  {
   "cell_type": "markdown",
   "metadata": {},
   "source": [
    "<a id=\"tesscut_id\"></a>\n",
    "## Request a 10 x 10 pixel timeseries of FFI cutouts around specified RA and Dec.\n",
    "This delivers a zipped file containing a cutout for each set of FFIs as listed above. It is also possible to request only one sector using the \"sector\" parameter."
   ]
  },
  {
   "cell_type": "code",
   "execution_count": 134,
   "metadata": {},
   "outputs": [
    {
     "name": "stdout",
     "output_type": "stream",
     "text": [
      "<Response [200]>\n",
      "application/zip\n"
     ]
    }
   ],
   "source": [
    "myparams={\"ra\":Ra, \"dec\":Dec, \"x\":60, \"y\":120, \n",
    "           \"units\":\"px\",\"sector\":\"All\"}\n",
    "header={'Authorization': \"token \"+masttoken}\n",
    "\n",
    "url=urlbase+\"/astrocut\"\n",
    "\n",
    "r=requests.get(url=url,params=myparams,headers=header)\n",
    "#Check the content type.\n",
    "print(r)\n",
    "print(r.headers.get('content-type'))"
   ]
  },
  {
   "cell_type": "markdown",
   "metadata": {},
   "source": [
    "Write the resulting zip file.s"
   ]
  },
  {
   "cell_type": "code",
   "execution_count": 135,
   "metadata": {},
   "outputs": [
    {
     "data": {
      "text/plain": [
       "65668214"
      ]
     },
     "execution_count": 135,
     "metadata": {},
     "output_type": "execute_result"
    }
   ],
   "source": [
    "open('astrocut.zip', 'wb').write(r.content)"
   ]
  },
  {
   "cell_type": "markdown",
   "metadata": {},
   "source": [
    "### Open the zip file so we can see what is in the header of the two files.\n",
    "We use python's zipfile to unzip the file, but this could also be done using unzip from the command line.  "
   ]
  },
  {
   "cell_type": "code",
   "execution_count": 136,
   "metadata": {},
   "outputs": [
    {
     "name": "stdout",
     "output_type": "stream",
     "text": [
      "['tess-s0001-4-2_84.291198_-80.469143_120x60_astrocut.fits']\n"
     ]
    }
   ],
   "source": [
    "zipRef=zipfile.ZipFile('astrocut.zip','r')\n",
    "zipRef.extractall('.')\n",
    "zipRef.close()\n",
    "cutoutnames = zipRef.namelist()\n",
    "print(cutoutnames)"
   ]
  },
  {
   "cell_type": "markdown",
   "metadata": {},
   "source": [
    "### Inspect the contents of both files.\n",
    "Use the fits.info function to see the contents of the file. Notice that it has three extensions just like a target pixel file. Most of the interesting information is in the PIXELS extension."
   ]
  },
  {
   "cell_type": "code",
   "execution_count": 137,
   "metadata": {},
   "outputs": [
    {
     "ename": "IndexError",
     "evalue": "list index out of range",
     "output_type": "error",
     "traceback": [
      "\u001b[0;31m---------------------------------------------------------------------------\u001b[0m",
      "\u001b[0;31mIndexError\u001b[0m                                Traceback (most recent call last)",
      "\u001b[0;32m<ipython-input-137-8443d7f0fc23>\u001b[0m in \u001b[0;36m<module>\u001b[0;34m\u001b[0m\n\u001b[1;32m      1\u001b[0m \u001b[0mfile1\u001b[0m\u001b[0;34m=\u001b[0m\u001b[0mcutoutnames\u001b[0m\u001b[0;34m[\u001b[0m\u001b[0;36m0\u001b[0m\u001b[0;34m]\u001b[0m\u001b[0;34m\u001b[0m\u001b[0m\n\u001b[0;32m----> 2\u001b[0;31m \u001b[0mfile2\u001b[0m\u001b[0;34m=\u001b[0m\u001b[0mcutoutnames\u001b[0m\u001b[0;34m[\u001b[0m\u001b[0;36m1\u001b[0m\u001b[0;34m]\u001b[0m\u001b[0;34m\u001b[0m\u001b[0m\n\u001b[0m\u001b[1;32m      3\u001b[0m \u001b[0mfits\u001b[0m\u001b[0;34m.\u001b[0m\u001b[0minfo\u001b[0m\u001b[0;34m(\u001b[0m\u001b[0mfile1\u001b[0m\u001b[0;34m)\u001b[0m\u001b[0;34m\u001b[0m\u001b[0m\n",
      "\u001b[0;31mIndexError\u001b[0m: list index out of range"
     ]
    }
   ],
   "source": [
    "file1=cutoutnames[0]\n",
    "file2=cutoutnames[1]\n",
    "fits.info(file1)"
   ]
  },
  {
   "cell_type": "code",
   "execution_count": 127,
   "metadata": {},
   "outputs": [
    {
     "name": "stdout",
     "output_type": "stream",
     "text": [
      "Filename: tess-s0001-4-3_124.5319_-68.313_120x60_astrocut.fits\n",
      "No.    Name      Ver    Type      Cards   Dimensions   Format\n",
      "  0  PRIMARY       1 PrimaryHDU      54   ()      \n",
      "  1  PIXELS        1 BinTableHDU    244   1282R x 12C   [D, E, J, 7200J, 7200E, 7200E, 7200E, 7200E, J, E, E, 38A]   \n",
      "  2  APERTURE      1 ImageHDU       143   (120, 60)   float64   \n"
     ]
    }
   ],
   "source": [
    "fits.info(file1)"
   ]
  },
  {
   "cell_type": "code",
   "execution_count": 140,
   "metadata": {},
   "outputs": [],
   "source": [
    "hdu1=fits.open(file1)\n",
    "#hdu1[1].header"
   ]
  },
  {
   "cell_type": "markdown",
   "metadata": {},
   "source": [
    "### Compare the time for the start of observation for both files.\n",
    "Since one is from Sector 1 and the other is from Sector 2, these are approximately a month a part. "
   ]
  },
  {
   "cell_type": "code",
   "execution_count": 129,
   "metadata": {},
   "outputs": [
    {
     "name": "stdout",
     "output_type": "stream",
     "text": [
      "File 1 Start Time: 2018-07-25T19:29:42.708Z\n",
      "File 2 Start Time: 2018-08-23T14:29:41.724Z\n",
      "(60, 120)\n",
      "(60, 120)\n"
     ]
    }
   ],
   "source": [
    "hdu2=fits.open(file2)\n",
    "print(\"File 1 Start Time: \" + hdu1[0].header['DATE-OBS'])\n",
    "print(\"File 2 Start Time: \" + hdu2[0].header['DATE-OBS'])\n",
    "print(np.shape(hdu1[1].data[0]['FLUX']))\n",
    "print(np.shape(hdu1[2].data))"
   ]
  },
  {
   "cell_type": "markdown",
   "metadata": {},
   "source": [
    "<a id=\"plot_image\"></a>\n",
    "## Plot the First Image of the First Sector of Data\n",
    "\n",
    "We use the WCS in the header to place a red dot on the image for the catalog position of the star on the figure as a demonstration of the WCS. Remember that the WCS is based on the WCS stored in the FFI file for the central part of the time series and there can be some motion during a sector of observation. "
   ]
  },
  {
   "cell_type": "code",
   "execution_count": 145,
   "metadata": {},
   "outputs": [
    {
     "data": {
      "text/plain": [
       "<matplotlib.collections.PathCollection at 0x11d3beeb8>"
      ]
     },
     "execution_count": 145,
     "metadata": {},
     "output_type": "execute_result"
    },
    {
     "data": {
      "image/png": "[encoded data removed]",
      "text/plain": [
       "<Figure size 720x720 with 1 Axes>"
      ]
     },
     "metadata": {
      "needs_background": "light"
     },
     "output_type": "display_data"
    }
   ],
   "source": [
    "first_image=hdu1[1].data['FLUX'][0]\n",
    "wcs=WCS(hdu1[2].header)\n",
    "\n",
    "fig = plt.figure(figsize=(10,10))\n",
    "fig.clf()\n",
    "#fig.add_subplot(111, projection=wcs)\n",
    "plt.imshow(first_image, origin='lower', cmap=plt.cm.viridis,vmin=-1,vmax=10100)\n",
    "#plt.imshow(first_image.reshape(np.shape(first_image)[::-1]), origin='lower', cmap=plt.cm.viridis)\n",
    "plt.xlabel('CCD Column',fontsize=14)\n",
    "plt.ylabel('CCD Row',fontsize=14)\n",
    "plt.grid(axis='both',color='white', ls='solid')\n",
    "\n",
    "coord=list(map(lambda x,y:[x,y], catalogData['ra'],catalogData['dec']))\n",
    "starloc=wcs.all_world2pix([[Ra,Dec]],0)  #Second is origin\n",
    "nearbyloc=wcs.all_world2pix(coord,0)\n",
    "plt.scatter(starloc[0,0],starloc[0,1],s=45,color='red')\n",
    "plt.scatter(nearbyloc[bright,0],nearbyloc[bright,1],s=15,color='orange')"
   ]
  },
  {
   "cell_type": "code",
   "execution_count": 120,
   "metadata": {},
   "outputs": [
    {
     "data": {
      "text/plain": [
       "XTENSION= 'IMAGE   '           / Image extension                                \n",
       "BITPIX  =                  -64 / array data type                                \n",
       "NAXIS   =                    2 / number of array dimensions                     \n",
       "NAXIS1  =                  100                                                  \n",
       "NAXIS2  =                   60                                                  \n",
       "PCOUNT  =                    0 / number of parameters                           \n",
       "GCOUNT  =                    1 / number of groups                               \n",
       "EXTNAME = 'APERTURE'                                                            \n",
       "WCSAXES =                    2 / number of WCS axes                             \n",
       "CRPIX1  =               1083.0 / X reference pixel                              \n",
       "CRPIX2  =               -195.0 / Y reference pixel                              \n",
       "PC1_1   =  -0.0051061934791505 / Coordinate transformation matrix element       \n",
       "PC1_2   =  -0.0024046150501817 / Coordinate transformation matrix element       \n",
       "PC2_1   =   0.0025374281685799 / Coordinate transformation matrix element       \n",
       "PC2_2   =  -0.0051685790531337 / Coordinate transformation matrix element       \n",
       "CDELT1  =                  1.0 / [deg] Coordinate increment at reference point  \n",
       "CDELT2  =                  1.0 / [deg] Coordinate increment at reference point  \n",
       "CUNIT1  = 'deg     '           / Units of coordinate increment and value        \n",
       "CUNIT2  = 'deg     '           / Units of coordinate increment and value        \n",
       "CTYPE1  = 'RA---TAN-SIP'       / Gnomonic projection + SIP distortions          \n",
       "CTYPE2  = 'DEC--TAN-SIP'       / Gnomonic projection + SIP distortions          \n",
       "CRVAL1  =      111.99416351318 / RA at CRPIX1, CRPIX2                           \n",
       "CRVAL2  =   -65.05230712890599 / DEC at CRPIX1, CRPIX2                          \n",
       "LONPOLE =                180.0 / [deg] Native longitude of celestial pole       \n",
       "LATPOLE =   -65.05230712890599 / [deg] Native latitude of celestial pole        \n",
       "RADESYS = 'ICRS    '           / reference frame of celestial coordinates       \n",
       "MJD-OBS =      58339.311641169 / [d] MJD of observation matching DATE-OBS       \n",
       "DATE-OBS= '2018-08-09T07:28:45.797Z' / TSTART as UTC calendar date              \n",
       "A_ORDER =                    4 / Polynomial order, axis 1                       \n",
       "A_0_2   =  3.1422964639205E-06 / distortion coefficient                         \n",
       "A_0_3   = -1.4392069480617E-10 / distortion coefficient                         \n",
       "A_0_4   = 1.17231379226541E-13 / distortion coefficient                         \n",
       "A_1_1   = 1.74660563061479E-05 / distortion coefficient                         \n",
       "A_1_2   = -2.7940108004997E-09 / distortion coefficient                         \n",
       "A_1_3   = 1.98840686212349E-13 / distortion coefficient                         \n",
       "A_2_0   = 2.01424954866524E-05 / distortion coefficient                         \n",
       "A_2_1   = -1.0176634708536E-11 / distortion coefficient                         \n",
       "A_2_2   =  2.8314506230094E-13 / distortion coefficient                         \n",
       "A_3_0   = -2.6826358912046E-09 / distortion coefficient                         \n",
       "A_3_1   = 2.00878389985427E-13 / distortion coefficient                         \n",
       "A_4_0   = 8.11099031363705E-14 / distortion coefficient                         \n",
       "B_ORDER =                    4 / Polynomial order, axis 2                       \n",
       "B_0_2   = 2.01876155188074E-05 / distortion coefficient                         \n",
       "B_0_3   = -2.6849868994816E-09 / distortion coefficient                         \n",
       "B_0_4   = 2.03966428165627E-13 / distortion coefficient                         \n",
       "B_1_1   = 1.72072541317902E-05 / distortion coefficient                         \n",
       "B_1_2   = -3.4222642081305E-11 / distortion coefficient                         \n",
       "B_1_3   = 3.30358299310135E-13 / distortion coefficient                         \n",
       "B_2_0   = 3.15576448883803E-06 / distortion coefficient                         \n",
       "B_2_1   = -2.7446005468334E-09 / distortion coefficient                         \n",
       "B_2_2   = 3.23341722320569E-13 / distortion coefficient                         \n",
       "B_3_0   = -1.6189635743124E-10 / distortion coefficient                         \n",
       "B_3_1   = 2.21181945913966E-13 / distortion coefficient                         \n",
       "B_4_0   = 1.00257421722233E-13 / distortion coefficient                         \n",
       "AP_ORDER=                    4 / Inv polynomial order, axis 1                   \n",
       "AP_0_1  = -4.5688568206969E-05 / inv distortion coefficient                     \n",
       "AP_0_2  = -3.1400941225001E-06 / inv distortion coefficient                     \n",
       "AP_0_3  = 3.97143512520514E-10 / inv distortion coefficient                     \n",
       "AP_0_4  = -1.7333220091435E-13 / inv distortion coefficient                     \n",
       "AP_1_0  = -6.9784378865733E-05 / inv distortion coefficient                     \n",
       "AP_1_1  = -1.7460461094742E-05 / inv distortion coefficient                     \n",
       "AP_1_2  = 3.89241838760767E-09 / inv distortion coefficient                     \n",
       "AP_1_3  =  -5.532529729485E-13 / inv distortion coefficient                     \n",
       "AP_2_0  = -2.0137029423494E-05 / inv distortion coefficient                     \n",
       "AP_2_1  = 1.55565182957673E-09 / inv distortion coefficient                     \n",
       "AP_2_2  = -7.4099363797652E-13 / inv distortion coefficient                     \n",
       "AP_3_0  = 3.68928221305964E-09 / inv distortion coefficient                     \n",
       "AP_3_1  = -5.9290240902662E-13 / inv distortion coefficient                     \n",
       "AP_4_0  = -4.1784059393902E-13 / inv distortion coefficient                     \n",
       "BP_ORDER=                    4 / Inv polynomial order, axis 2                   \n",
       "BP_0_1  = -7.8298100561368E-05 / inv distortion coefficient                     \n",
       "BP_0_2  = -2.0181274521746E-05 / inv distortion coefficient                     \n",
       "BP_0_3  = 3.72045172447599E-09 / inv distortion coefficient                     \n",
       "BP_0_4  = -5.4594333611171E-13 / inv distortion coefficient                     \n",
       "BP_1_0  = -4.9051304813474E-05 / inv distortion coefficient                     \n",
       "BP_1_1  = -1.7200109141413E-05 / inv distortion coefficient                     \n",
       "BP_1_2  = 1.59515445297131E-09 / inv distortion coefficient                     \n",
       "BP_1_3  = -7.2738565387933E-13 / inv distortion coefficient                     \n",
       "BP_2_0  = -3.1534370918961E-06 / inv distortion coefficient                     \n",
       "BP_2_1  =  3.8391112511249E-09 / inv distortion coefficient                     \n",
       "BP_2_2  = -7.8226596207653E-13 / inv distortion coefficient                     \n",
       "BP_3_0  = 4.13848233460356E-10 / inv distortion coefficient                     \n",
       "BP_3_1  =  -5.718933898495E-13 / inv distortion coefficient                     \n",
       "BP_4_0  = -1.5700259831368E-13 / inv distortion coefficient                     \n",
       "WCSNAMEP= 'PHYSICAL'           / name of world coordinate system alternate P    \n",
       "WCSAXESP=                    2 / number of WCS physical axes                    \n",
       "CTYPE1P = 'RAWX    '           / physical WCS axis 1 type CCD col               \n",
       "CUNIT1P = 'PIXEL   '           / physical WCS axis 1 unit                       \n",
       "CRPIX1P =                    1 / reference CCD column                           \n",
       "CRVAL1P =                  -37 / value at reference CCD column                  \n",
       "CDELT1P =                  1.0 / physical WCS axis 1 step                       \n",
       "CTYPE2P = 'RAWY    '           / physical WCS axis 2 type CCD col               \n",
       "CUNIT2P = 'PIXEL   '           / physical WCS axis 2 unit                       \n",
       "CRPIX2P =                    1 / reference CCD row                              \n",
       "CRVAL2P =                 1197 / value at reference CCD row                     \n",
       "CDELT2P =                  1.0 / physical WCS axis 2 step                       \n",
       "INHERIT =                    T                                                  \n",
       "EXTVER  =                    1 / extension version number (not format version)  \n",
       "SIMDATA =                    F / file is based on simulated data                \n",
       "ORIGIN  = 'STScI/MAST'         / institution responsible for creating this file \n",
       "DATE    = '2018-10-23'         / file creation date.                            \n",
       "TSTART  =    1325.313100604524 / observation start time in TJD                  \n",
       "TSTOP   =    1353.167256127407 / observation stop time in TJD                   \n",
       "DATE-END= '2018-08-22T15:59:41.745Z' / TSTOP as UTC calendar date               \n",
       "CREATOR = '114 FfiExporter'    / pipeline job and program used to produce this f\n",
       "PROCVER = 'spoc-3.3.31-20180902' / SW version                                   \n",
       "FILEVER = '1.0     '           / file format version                            \n",
       "TIMVERSN= 'OGIP/93-003'        / OGIP memo number for file format               \n",
       "TELESCOP= 'TESS    '           / telescope                                      \n",
       "INSTRUME= 'TESS Photometer'    / detector type                                  \n",
       "DATA_REL=                    1 / data release version number                    \n",
       "ASTATE  =                    T / archive state F indicates single orbit processi\n",
       "SCCONFIG=                  120 / spacecraft configuration ID                    \n",
       "EQUINOX =               2000.0 / equinox of celestial coordinate system         \n",
       "CRMITEN =                    T / spacecraft cosmic ray mitigation enabled       \n",
       "CRBLKSZ =                   10 / [exposures] s/c cosmic ray mitigation block siz\n",
       "CRSPOC  =                    F / SPOC cosmic ray cleaning enabled               \n",
       "SECTOR  = '' / Observing sector                                                 \n",
       "CAMERA  =                    4 / Camera number                                  \n",
       "CCD     =                    3 / CCD chip number                                \n",
       "RA_OBJ  =             124.5319 / [deg] right ascension                          \n",
       "DEC_OBJ =              -68.313 / [deg] declination                              \n",
       "TIMEREF = 'SOLARSYSTEM'        / barycentric correction applied to times        \n",
       "TASSIGN = 'SPACECRAFT'         / where time is assigned                         \n",
       "TIMESYS = 'TDB     '           / time system is Barycentric Dynamical Time (TDB)\n",
       "BJDREFI =              2457000 / integer part of BTJD reference date            \n",
       "BJDREFF =                  0.0 / fraction of the day in BTJD reference date     \n",
       "TIMEUNIT= 'd       '           / time unit for TIME, TSTART and TSTOP           \n",
       "TELAPSE =    27.85415552288305 / [d] TSTOP - TSTART                             \n",
       "OBJECT  = '' / string version of target id                                      \n",
       "TCID    =                    0 / unique tess target identifier                  \n",
       "PXTABLE =                    0 / pixel table id                                 \n",
       "PMRA    =                  0.0 / [mas/yr] RA proper motion                      \n",
       "PMDEC   =                  0.0 / [mas/yr] Dec proper motion                     \n",
       "PMTOTAL =                  0.0 / [mas/yr] total proper motion                   \n",
       "TESSMAG =                  0.0 / [mag] TESS magnitude                           \n",
       "TEFF    =                  0.0 / [K] Effective temperature                      \n",
       "LOGG    =                  0.0 / [cm/s2] log10 surface gravity                  \n",
       "MH      =                  0.0 / [log10([M/H])] metallicity                     \n",
       "RADIUS  =                  0.0 / [solar radii] stellar radius                   \n",
       "TICVER  =                    0 / TICVER                                         \n",
       "CHECKSUM= '9DSHB9Q99CQEA9Q9'   / HDU checksum updated 2018-11-21T10:20:13       \n",
       "DATASUM = '394265505'          / data unit checksum updated 2018-11-21T10:20:13 "
      ]
     },
     "execution_count": 120,
     "metadata": {},
     "output_type": "execute_result"
    }
   ],
   "source": [
    "hdu1[2].header"
   ]
  },
  {
   "cell_type": "markdown",
   "metadata": {},
   "source": [
    "<a id=\"resources_ID\"></a>\n",
    "## Additional Resources\n",
    "[TESScut API Documentation](https://mast.stsci.edu/tesscut/)<br>\n",
    "[Astrocut Documentation](https://astrocut.readthedocs.io/en/latest/)<br>\n",
    "[TESS Homepage](https://archive.stsci.edu/tess)\n"
   ]
  },
  {
   "cell_type": "markdown",
   "metadata": {},
   "source": [
    "<a id=\"about_ID\"></a>\n",
    "## About this Notebook\n",
    "**Author:** Susan E. Mullally, STScI Archive Scientist\n",
    "<br>**Updated On:** 2018-11-13"
   ]
  },
  {
   "cell_type": "markdown",
   "metadata": {},
   "source": [
    "[Top of Page](#title_ID)\n",
    "<img style=\"float: right;\" src=\"./stsci_pri_combo_mark_horizonal_white_bkgd.png\" alt=\"stsci_pri_combo_mark_horizonal_white_bkgd\" width=\"200px\"/> "
   ]
  }
 ],
 "metadata": {
  "kernelspec": {
   "display_name": "Python 3",
   "language": "python",
   "name": "python3"
  },
  "language_info": {
   "codemirror_mode": {
    "name": "ipython",
    "version": 3
   },
   "file_extension": ".py",
   "mimetype": "text/x-python",
   "name": "python",
   "nbconvert_exporter": "python",
   "pygments_lexer": "ipython3",
   "version": "3.6.1"
  }
 },
 "nbformat": 4,
 "nbformat_minor": 2
}
